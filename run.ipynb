{
 "cells": [
  {
   "cell_type": "code",
   "execution_count": 1,
   "id": "cdcda3c4-fe55-47c6-b8b5-bef21c521504",
   "metadata": {},
   "outputs": [],
   "source": [
    "from src.index import app"
   ]
  },
  {
   "cell_type": "code",
   "execution_count": 2,
   "id": "8fc867e9-db6d-4a38-b3d1-a7f54601b2f0",
   "metadata": {},
   "outputs": [
    {
     "name": "stdout",
     "output_type": "stream",
     "text": [
      "Dash app running on http://127.0.0.1:8050/\n"
     ]
    }
   ],
   "source": [
    "if __name__ == '__main__':\n",
    "    app.run_server(debug=True, threaded=True)"
   ]
  }
 ],
 "metadata": {
  "jupytext": {
   "formats": "ipynb,py:nomarker"
  },
  "kernelspec": {
   "display_name": "dash",
   "language": "python",
   "name": "dash"
  },
  "language_info": {
   "codemirror_mode": {
    "name": "ipython",
    "version": 3
   },
   "file_extension": ".py",
   "mimetype": "text/x-python",
   "name": "python",
   "nbconvert_exporter": "python",
   "pygments_lexer": "ipython3",
   "version": "3.10.2"
  }
 },
 "nbformat": 4,
 "nbformat_minor": 5
}
